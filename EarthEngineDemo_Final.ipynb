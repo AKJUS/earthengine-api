{
  "nbformat": 4,
  "nbformat_minor": 0,
  "metadata": {
    "colab": {
      "provenance": [],
      "toc_visible": true,
      "include_colab_link": true
    },
    "kernelspec": {
      "name": "python3",
      "display_name": "Python 3"
    },
    "language_info": {
      "name": "python"
    }
  },
  "cells": [
    {
      "cell_type": "markdown",
      "metadata": {
        "id": "view-in-github",
        "colab_type": "text"
      },
      "source": [
        "<a href=\"https://colab.research.google.com/github/Maganti1205/earthengine-api/blob/master/EarthEngineDemo_Final.ipynb\" target=\"_parent\"><img src=\"https://colab.research.google.com/assets/colab-badge.svg\" alt=\"Open In Colab\"/></a>"
      ]
    },
    {
      "cell_type": "markdown",
      "source": [
        "# Demo Scenario\n",
        "\n",
        " Extreme weather events have a devastating impact around the world. Flooding, heat waves, and drought have substantial human and financial costs, causing mortality and devastation of homes and property. The following example shows how to use satellite data mosaics from Earth Engine and open road datasets from BigQuery, processing the data in both environments to determine which road segments are affected by a flooding event in the UK.\n",
        "\n",
        "\n",
        " ## Demo Flow\n",
        "\n",
        " Earth Engine => Big Query => Visualization\n",
        "\n",
        " ## Prerequisites\n",
        "\n",
        "\n",
        "1.   Install the dependencies {--geemap , earthengine-api}\n",
        "2.   Create a new GCP project and check that billing is enabled. Alternatively an existing project with valid billing ID could be used.\n",
        "3.   Enable the BigQuery and Earth Engine APIs.\n",
        "4.   Make sure to have the permissions to create dataset.\n",
        "5.   Make sure to have the below IAM roles assigned on the Bigquery dataset\n",
        "\n",
        ">1. bigquery.dataEditor + bigquery.jobUser\n",
        "\n",
        ">2. bigquery.dataOwner + bigquery.jobUser\n",
        "\n",
        ">3. bigquery.admin\n",
        "\n",
        "\n",
        "\n",
        "\n",
        "\n",
        "\n",
        "\n",
        "\n",
        "\n",
        "\n",
        "\n",
        "\n",
        "\n",
        "\n",
        "\n",
        "\n",
        "\n",
        "\n",
        "\n",
        "\n",
        "\n",
        "\n",
        "\n",
        "\n",
        "\n",
        "\n"
      ],
      "metadata": {
        "id": "wE93poeBnMnW"
      }
    },
    {
      "cell_type": "code",
      "source": [
        "# @title Prerequisites\n",
        "# Install 'geemap' libary to display the map\n",
        "!pip install geemap\n",
        "!pip install earthengine-api --upgrade"
      ],
      "metadata": {
        "id": "352zE5rZDO0v"
      },
      "execution_count": 1,
      "outputs": []
    },
    {
      "cell_type": "code",
      "source": [
        "# @title Parameter Setup\n",
        "project_id = \"my-demo-project-360918\"  # @param {type:\"string\"} #replace the project id with your project\n",
        "dataset_id = \"ee_export\"\n",
        "table_id = \"ee_test\"\n",
        "table =  dataset_id + \".\" + table_id\n",
        "region = 'us'\n",
        "table_path = project_id + \".\" + dataset_id + \".\" + table_id\n",
        "print(\"Region:      \",region)\n",
        "print(\"Table Path:  \",table_path)\n"
      ],
      "metadata": {
        "id": "llYex6u5jNGx"
      },
      "execution_count": null,
      "outputs": []
    },
    {
      "cell_type": "code",
      "source": [
        "# @title Authenticate and initialize the Session\n",
        "import google\n",
        "import ee\n",
        "from google.cloud import bigquery\n",
        "from google.colab import auth as google_auth\n",
        "client= bigquery.Client()\n",
        "google_auth.authenticate_user()\n",
        "credentials, auth_project_id = google.auth.default()\n",
        "ee.Initialize(credentials, project=project_id)"
      ],
      "metadata": {
        "id": "MQJDgFB0jEH0"
      },
      "execution_count": null,
      "outputs": []
    },
    {
      "cell_type": "code",
      "source": [
        "# @title Create BQ Dataset\n",
        "# Create BQ Project\n",
        "!bq --location={region} mk --dataset {project_id}:{dataset_id}"
      ],
      "metadata": {
        "id": "9guXwDgP-grd"
      },
      "execution_count": null,
      "outputs": []
    },
    {
      "cell_type": "markdown",
      "source": [
        "Define area of interest and centre point"
      ],
      "metadata": {
        "id": "nNcSsY9y5TAK"
      }
    },
    {
      "cell_type": "code",
      "source": [
        "# @title Define point and Area of Interest(aoi)\n",
        "# Define Point\n",
        "pt = ee.Geometry.Point([-2.788305016918912,53.99351387096434])\n",
        "\n",
        "# Define Polygons\n",
        "aoi =ee.Geometry.Polygon([[-2.918327782772696,53.93320265050595],\n",
        "                          [-2.4572453242766024,53.93320265050595],\n",
        "                          [-2.4572453242766024,54.07928378526107],\n",
        "                          [-2.918327782772696,54.07928378526107],\n",
        "                          [-2.918327782772696,53.93320265050595]\n",
        "                           ])\n"
      ],
      "metadata": {
        "id": "o2QgpHD5-PRG"
      },
      "execution_count": null,
      "outputs": []
    },
    {
      "cell_type": "code",
      "source": [
        "# @title Display aoi and point\n",
        "import geemap\n",
        "Map = geemap.Map()\n",
        "Map.centerObject(pt, 10);\n",
        "Map.setOptions(mapTypeId='HYBRID', styles={}, types=[])\n",
        "Map.addLayer(aoi,{\"color\":\"blue\"});\n",
        "Map.addLayer(pt,{\"color\":\"red\"});\n",
        "Map"
      ],
      "metadata": {
        "id": "8wIR_Fwu04En"
      },
      "execution_count": null,
      "outputs": []
    },
    {
      "cell_type": "markdown",
      "source": [
        "The Earth Engine Data Catalog contains the [Copernicus Sentinel Synthetic Aperture Radar collection](https://colab.research.google.com/drive/11Cr9nqizvw4D-SwSKgV2mZ6njFiy1lac#scrollTo=ycom7Zl36R4I&line=1&uniqifier=1). This public dataset is composed of radar images that measure how surfaces scatter light waves back to a satellite's sensor. Standing bodies of water act like mirrors for radio signals, reflecting the satellite's radar light away rather than scattering it back to the imaging sensor. Most natural surfaces don't have this property, which means that one can differentiate standing bodies of water from their surroundings by looking for \"dark\" patches in the images (that is, areas with low backscatter values). Let’s prepare the input data by selecting an area of interest and filtering images with vertical-vertical (\"VV\") polarization, sending vertically polarized light, and measuring the vertically polarized light that's returned."
      ],
      "metadata": {
        "id": "ycom7Zl36R4I"
      }
    },
    {
      "cell_type": "code",
      "source": [
        "# @title Data Collections\n",
        "# Load Sentinel-1 C-band SAR Ground Range collection (log scaling, VV co-polar)\n",
        "collection = ee.ImageCollection('COPERNICUS/S1_GRD').filterBounds(pt).filter(ee.Filter.listContains('transmitterReceiverPolarisation', 'VV')).select('VV')\n",
        "# Filter by date\n",
        "before = collection.filterDate('2017-11-01', '2017-11-17').mosaic() #before floods\n",
        "after = collection.filterDate('2017-11-18', '2017-11-23').mosaic() #after floods"
      ],
      "metadata": {
        "id": "43gLFRiwKjWg"
      },
      "execution_count": null,
      "outputs": []
    },
    {
      "cell_type": "code",
      "source": [
        "# @title Identify Flooded Areas\n",
        "# Threshold smoothed radar intensities to identify \"flooded\" areas.\n",
        "smoothing_radius = 100\n",
        "diff_upper_threshold = -3\n",
        "diff_smoothed = after.focal_median(smoothing_radius, 'circle', 'meters').subtract(before.focal_median(smoothing_radius, 'circle', 'meters'));\n",
        "diff_thresholded = diff_smoothed.lt(diff_upper_threshold)"
      ],
      "metadata": {
        "id": "5hXZvoMYKmbK"
      },
      "execution_count": null,
      "outputs": []
    },
    {
      "cell_type": "code",
      "source": [
        "# @title Remove Water Areas(other than floods)\n",
        "# Remove global surface water, ie, oceans, lakes, etc\n",
        "waterOcc = ee.Image(\"JRC/GSW1_0/GlobalSurfaceWater\").select('occurrence')\n",
        "jrc_data0 = ee.Image(\"JRC/GSW1_0/Metadata\").select('total_obs').lte(0)\n",
        "waterOccFilled = waterOcc.unmask(0).max(jrc_data0)\n",
        "waterMask = waterOccFilled.lt(10)\n",
        "diff_thresholded = diff_thresholded.updateMask(waterMask)"
      ],
      "metadata": {
        "id": "EzTNlnZtTIEY"
      },
      "execution_count": null,
      "outputs": []
    },
    {
      "cell_type": "code",
      "source": [
        "# @title Visualize the Map with Flooded Area\n",
        "# Display flooded areas on the map\n",
        "import geemap\n",
        "vis_params = {\n",
        "    \"palette\": [\"0000FF\"],\n",
        "}\n",
        "Map = geemap.Map()\n",
        "Map.setOptions(mapTypeId='HYBRID', styles={}, types=[])\n",
        "Map.centerObject(pt, 10);\n",
        "Map.addLayer(diff_thresholded.updateMask(diff_thresholded),vis_params,'flooded areas - blue', 1)\n",
        "Map"
      ],
      "metadata": {
        "id": "vkowcJLHIZTm"
      },
      "execution_count": null,
      "outputs": []
    },
    {
      "cell_type": "markdown",
      "source": [
        "New connector supports export of vector data. Let’s convert flooded pixel data to vector format."
      ],
      "metadata": {
        "id": "qCJ1tiPG7SBd"
      }
    },
    {
      "cell_type": "code",
      "source": [
        "#@title Extract Vectors from the Flooded areas\n",
        "#Extract vectors from the diff threshold to load to Bigquery\n",
        "vectors = diff_thresholded.reduceToVectors(geometry = aoi, scale = 10,geometryType = 'polygon',eightConnected = True)"
      ],
      "metadata": {
        "id": "bwooSOpwSWne"
      },
      "execution_count": null,
      "outputs": []
    },
    {
      "cell_type": "markdown",
      "source": [
        "This is where our new BigQuery connector simplifies export to just making one call: Export.table.toBigQuery."
      ],
      "metadata": {
        "id": "lrajMu4P8MYr"
      }
    },
    {
      "cell_type": "code",
      "source": [
        "#@title Export to BigQuery\n",
        "task_config = { 'collection': vectors,\n",
        "  'description':'ee2bq_export_polygons',\n",
        "  'table': table_path,\n",
        "  'overwrite': True\n",
        "}\n",
        "task = ee.batch.Export.table.toBigQuery(**task_config)\n",
        "task.start() # after a few minutes it will be completed, check task.status() to see the result\n"
      ],
      "metadata": {
        "id": "cB4s6DxZNqTn"
      },
      "execution_count": null,
      "outputs": []
    },
    {
      "cell_type": "code",
      "source": [
        "#@title Check Export Job Status\n",
        "# Check the results and make sure the status is COMPLETED before checking the results in BigQuery\n",
        "task.status()"
      ],
      "metadata": {
        "id": "J2quoziwTDnN"
      },
      "execution_count": null,
      "outputs": []
    },
    {
      "cell_type": "markdown",
      "source": [
        "Now we have exported data available in BigQuery. Execute the query to check the data"
      ],
      "metadata": {
        "id": "ivAhkbOT8wuQ"
      }
    },
    {
      "cell_type": "code",
      "source": [
        "#@title Check Bigquery Results\n",
        "#%%substitute_globals\n",
        "%%bigquery --project $project_id\n",
        "SELECT * from ee_export.ee_test #replace it with your dataset and tablename\n",
        "\n",
        "#If you get a \"table not found\" error then check the step above to see if your job has completed"
      ],
      "metadata": {
        "id": "38K0qKgKxgBI"
      },
      "execution_count": null,
      "outputs": []
    },
    {
      "cell_type": "markdown",
      "source": [
        "In our example we are going to use the public “planet_ways” dataset from OpenStreetMap, so we can find roads that are underwater.\n",
        "\n",
        "\n",
        "> Get polygons corresponding to flat areas from the exported table.\n",
        "\n",
        "> Filter out administrative areas\n",
        "\n",
        "> Join result with road polygons from OpenStreetMap data that intersect with flat areas.\n"
      ],
      "metadata": {
        "id": "GhGpv47M9N6Y"
      }
    },
    {
      "cell_type": "code",
      "source": [
        "#@title BQ Result set to display flooded highways\n",
        "%%bigquery regions_by_country --project $project_id\n",
        "SELECT\n",
        " id, area,version,changeset,osm_timestamp,ST_ASGEOJSON(flood_poly) as flood_poly,\n",
        " ST_ASGEOJSON(road_geometry) as road_geometry\n",
        "FROM (\n",
        " -- query 1 - find all the flooding areas\n",
        " SELECT\n",
        "   geo AS flood_poly,\n",
        "   ST_AREA(geo) AS area\n",
        " FROM\n",
        "   ee_export.ee_test #replace it with your dataset and tablename\n",
        " WHERE\n",
        "   ST_AREA(geo) < 500000 ) t1 -- eliminate admin areas in the dataset\n",
        "JOIN (\n",
        " -- query 2 - find all the highways in Open Street Map - https://wiki.openstreetmap.org/wiki/BigQuery_dataset#Query_2:_hospitals_with_no_phone_tag\n",
        " SELECT\n",
        "   id,\n",
        "   version,\n",
        "   changeset,\n",
        "   osm_timestamp,\n",
        "   geometry as road_geometry\n",
        " FROM\n",
        "   `bigquery-public-data.geo_openstreetmap.planet_ways` planet_ways,\n",
        "   planet_ways.all_tags AS all_tags\n",
        " WHERE\n",
        " -- this tag catches all types of roads https://wiki.openstreetmap.org/wiki/Map_features\n",
        "   all_tags.key = 'highway' )\n",
        "ON\n",
        " ST_INTERSECTS(flood_poly, road_geometry)"
      ],
      "metadata": {
        "id": "030QbjYC9M3L"
      },
      "execution_count": null,
      "outputs": []
    },
    {
      "cell_type": "code",
      "source": [
        "#@title Extract the Features from flood_poly\n",
        "floods = '{\"type\": \"FeatureCollection\", \"features\":['\n",
        "floods += regions_by_country.flood_poly.str.cat(sep=\", \")\n",
        "floods += ']}'"
      ],
      "metadata": {
        "id": "SjzGS6pF_yqL"
      },
      "execution_count": null,
      "outputs": []
    },
    {
      "cell_type": "code",
      "source": [
        "#@title Extract the features from road_geometry\n",
        "highways = '{\"type\": \"FeatureCollection\", \"features\":['\n",
        "highways += regions_by_country.road_geometry.str.cat(sep=\", \")\n",
        "highways += ']}'\n"
      ],
      "metadata": {
        "id": "0yR7ouKBSr1e"
      },
      "execution_count": null,
      "outputs": []
    },
    {
      "cell_type": "code",
      "source": [
        "#@title Display Flooded Areas and  Highways using geemap\n",
        "import geemap\n",
        "from ipyleaflet import GeoJSON\n",
        "import json\n",
        "\n",
        "styling = {\"color\":\"red\",\"fillcolor\":\"red\"}\n",
        "\n",
        "Flooded_Highways = GeoJSON(\n",
        "    data=json.loads(floods),\n",
        "    name='Flooded areas'\n",
        ")\n",
        "\n",
        "Flooded_Areas = GeoJSON(\n",
        "    data=json.loads(highways),\n",
        "    name='Flooded roads',\n",
        "    style = styling\n",
        ")\n",
        "Map = geemap.Map()\n",
        "Map.setOptions(mapTypeId='HYBRID', styles={}, types=[])\n",
        "Map.centerObject(pt, 12)\n",
        "Map.add_layer(Flooded_Highways)\n",
        "Map.add_layer(Flooded_Areas)\n",
        "Map"
      ],
      "metadata": {
        "id": "9zQH6LjRV8Y2"
      },
      "execution_count": null,
      "outputs": []
    }
  ]
}